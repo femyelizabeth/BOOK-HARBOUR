{
 "cells": [
  {
   "cell_type": "markdown",
   "id": "a5ab5878-5cce-421f-9bb6-f307bad08e46",
   "metadata": {},
   "source": [
    "BOOK RECOMMENDATION SYSTEM"
   ]
  },
  {
   "cell_type": "markdown",
   "metadata": {},
   "source": [
    "SPRINT-2"
   ]
  },
  {
   "cell_type": "code",
   "execution_count": 22,
   "id": "c5e07afb-630a-45aa-9fbe-35584372c7b7",
   "metadata": {
    "tags": []
   },
   "outputs": [],
   "source": [
    "from sklearn.neighbors import NearestNeighbors\n",
    "from scipy.sparse import csr_matrix\n",
    "from sklearn.metrics.pairwise import linear_kernel, cosine_similarity\n",
    "from sklearn.model_selection import train_test_split\n",
    "from tqdm import tqdm\n",
    "import re\n",
    "from math import sqrt\n",
    "from sklearn.metrics import mean_squared_error"
   ]
  },
  {
   "cell_type": "code",
   "execution_count": 12,
   "id": "a9260d87-cb99-4b77-a7d1-04a87292aa38",
   "metadata": {
    "tags": []
   },
   "outputs": [
    {
     "data": {
      "text/html": [
       "<div>\n",
       "<style scoped>\n",
       "    .dataframe tbody tr th:only-of-type {\n",
       "        vertical-align: middle;\n",
       "    }\n",
       "\n",
       "    .dataframe tbody tr th {\n",
       "        vertical-align: top;\n",
       "    }\n",
       "\n",
       "    .dataframe thead th {\n",
       "        text-align: right;\n",
       "    }\n",
       "</style>\n",
       "<table border=\"1\" class=\"dataframe\">\n",
       "  <thead>\n",
       "    <tr style=\"text-align: right;\">\n",
       "      <th></th>\n",
       "      <th>Book-Title</th>\n",
       "      <th>total_rating_count</th>\n",
       "    </tr>\n",
       "  </thead>\n",
       "  <tbody>\n",
       "    <tr>\n",
       "      <th>0</th>\n",
       "      <td>A Light in the Storm: The Civil War Diary of ...</td>\n",
       "      <td>4</td>\n",
       "    </tr>\n",
       "    <tr>\n",
       "      <th>1</th>\n",
       "      <td>Always Have Popsicles</td>\n",
       "      <td>1</td>\n",
       "    </tr>\n",
       "    <tr>\n",
       "      <th>2</th>\n",
       "      <td>Apple Magic (The Collector's series)</td>\n",
       "      <td>1</td>\n",
       "    </tr>\n",
       "    <tr>\n",
       "      <th>3</th>\n",
       "      <td>Ask Lily (Young Women of Faith: Lily Series, ...</td>\n",
       "      <td>1</td>\n",
       "    </tr>\n",
       "    <tr>\n",
       "      <th>4</th>\n",
       "      <td>Beyond IBM: Leadership Marketing and Finance ...</td>\n",
       "      <td>1</td>\n",
       "    </tr>\n",
       "  </tbody>\n",
       "</table>\n",
       "</div>"
      ],
      "text/plain": [
       "                                          Book-Title  total_rating_count\n",
       "0   A Light in the Storm: The Civil War Diary of ...                   4\n",
       "1                              Always Have Popsicles                   1\n",
       "2               Apple Magic (The Collector's series)                   1\n",
       "3   Ask Lily (Young Women of Faith: Lily Series, ...                   1\n",
       "4   Beyond IBM: Leadership Marketing and Finance ...                   1"
      ]
     },
     "execution_count": 12,
     "metadata": {},
     "output_type": "execute_result"
    }
   ],
   "source": [
    "book_rating=ratings.dropna(axis=0,subset=[\"Book-Title\"])\n",
    "book_rating_count=book_rating.groupby([\"Book-Title\"])[\"Book-Rating\"].count().reset_index().rename(columns={'Book-Rating':'total_rating_count'})\n",
    "book_rating_count.head()"
   ]
  },
  {
   "cell_type": "code",
   "execution_count": 13,
   "id": "53368d7f-b61c-42ce-bdd9-7f15a7f1be6a",
   "metadata": {
    "tags": []
   },
   "outputs": [],
   "source": [
    "ratings=ratings.merge(book_rating_count,on=\"Book-Title\",how=\"right\")"
   ]
  },
  {
   "cell_type": "code",
   "execution_count": 14,
   "id": "efc241ca-5ea5-426e-a3c9-487218ed63bb",
   "metadata": {
    "tags": []
   },
   "outputs": [
    {
     "data": {
      "text/plain": [
       "count    1.031136e+06\n",
       "mean     6.978162e+01\n",
       "std      1.753381e+02\n",
       "min      1.000000e+00\n",
       "25%      3.000000e+00\n",
       "50%      1.300000e+01\n",
       "75%      6.100000e+01\n",
       "max      2.502000e+03\n",
       "Name: total_rating_count, dtype: float64"
      ]
     },
     "execution_count": 14,
     "metadata": {},
     "output_type": "execute_result"
    }
   ],
   "source": [
    "ratings.total_rating_count.describe()"
   ]
  },
  {
   "cell_type": "code",
   "execution_count": 15,
   "id": "e55ab0e9-0105-489c-aa62-a72d465f2bc4",
   "metadata": {
    "tags": []
   },
   "outputs": [
    {
     "data": {
      "text/html": [
       "<div>\n",
       "<style scoped>\n",
       "    .dataframe tbody tr th:only-of-type {\n",
       "        vertical-align: middle;\n",
       "    }\n",
       "\n",
       "    .dataframe tbody tr th {\n",
       "        vertical-align: top;\n",
       "    }\n",
       "\n",
       "    .dataframe thead th {\n",
       "        text-align: right;\n",
       "    }\n",
       "</style>\n",
       "<table border=\"1\" class=\"dataframe\">\n",
       "  <thead>\n",
       "    <tr style=\"text-align: right;\">\n",
       "      <th></th>\n",
       "      <th>User-ID</th>\n",
       "      <th>ISBN</th>\n",
       "      <th>Book-Rating</th>\n",
       "      <th>Book-Title</th>\n",
       "      <th>total_rating_count</th>\n",
       "    </tr>\n",
       "  </thead>\n",
       "  <tbody>\n",
       "    <tr>\n",
       "      <th>0</th>\n",
       "      <td>18995</td>\n",
       "      <td>0590567330</td>\n",
       "      <td>0</td>\n",
       "      <td>A Light in the Storm: The Civil War Diary of ...</td>\n",
       "      <td>4</td>\n",
       "    </tr>\n",
       "    <tr>\n",
       "      <th>1</th>\n",
       "      <td>35859</td>\n",
       "      <td>0590567330</td>\n",
       "      <td>0</td>\n",
       "      <td>A Light in the Storm: The Civil War Diary of ...</td>\n",
       "      <td>4</td>\n",
       "    </tr>\n",
       "    <tr>\n",
       "      <th>2</th>\n",
       "      <td>55927</td>\n",
       "      <td>0590567330</td>\n",
       "      <td>0</td>\n",
       "      <td>A Light in the Storm: The Civil War Diary of ...</td>\n",
       "      <td>4</td>\n",
       "    </tr>\n",
       "    <tr>\n",
       "      <th>3</th>\n",
       "      <td>96448</td>\n",
       "      <td>0590567330</td>\n",
       "      <td>9</td>\n",
       "      <td>A Light in the Storm: The Civil War Diary of ...</td>\n",
       "      <td>4</td>\n",
       "    </tr>\n",
       "    <tr>\n",
       "      <th>4</th>\n",
       "      <td>172742</td>\n",
       "      <td>0964147726</td>\n",
       "      <td>0</td>\n",
       "      <td>Always Have Popsicles</td>\n",
       "      <td>1</td>\n",
       "    </tr>\n",
       "  </tbody>\n",
       "</table>\n",
       "</div>"
      ],
      "text/plain": [
       "   User-ID        ISBN  Book-Rating  \\\n",
       "0    18995  0590567330            0   \n",
       "1    35859  0590567330            0   \n",
       "2    55927  0590567330            0   \n",
       "3    96448  0590567330            9   \n",
       "4   172742  0964147726            0   \n",
       "\n",
       "                                          Book-Title  total_rating_count  \n",
       "0   A Light in the Storm: The Civil War Diary of ...                   4  \n",
       "1   A Light in the Storm: The Civil War Diary of ...                   4  \n",
       "2   A Light in the Storm: The Civil War Diary of ...                   4  \n",
       "3   A Light in the Storm: The Civil War Diary of ...                   4  \n",
       "4                              Always Have Popsicles                   1  "
      ]
     },
     "execution_count": 15,
     "metadata": {},
     "output_type": "execute_result"
    }
   ],
   "source": [
    "ratings.head()"
   ]
  },
  {
   "cell_type": "code",
   "execution_count": 23,
   "id": "015b3513-5208-45ca-aa5b-4247434fd8a7",
   "metadata": {
    "tags": []
   },
   "outputs": [],
   "source": [
    "user_features_df=rating_popular_books_df.pivot_table(index=\"User-ID\",columns=\"Book-Title\",values=\"Book-Rating\").fillna(0.0)\n",
    "book_features_df=rating_popular_books_df.pivot_table(index=\"Book-Title\",columns=\"User-ID\",values=\"Book-Rating\").fillna(0.0)"
   ]
  },
  {
   "cell_type": "code",
   "execution_count": 24,
   "id": "f930b4cc-32be-41b7-b8b9-22553ba1de2e",
   "metadata": {
    "tags": []
   },
   "outputs": [],
   "source": [
    "user_features_matrix = csr_matrix(user_features_df)\n",
    "book_features_matrix = csr_matrix(book_features_df)"
   ]
  },
  {
   "cell_type": "code",
   "execution_count": 25,
   "id": "605c2e2e-3218-4b9c-8478-8eee02671df9",
   "metadata": {
    "tags": []
   },
   "outputs": [
    {
     "data": {
      "text/html": [
       "<style>#sk-container-id-1 {color: black;background-color: white;}#sk-container-id-1 pre{padding: 0;}#sk-container-id-1 div.sk-toggleable {background-color: white;}#sk-container-id-1 label.sk-toggleable__label {cursor: pointer;display: block;width: 100%;margin-bottom: 0;padding: 0.3em;box-sizing: border-box;text-align: center;}#sk-container-id-1 label.sk-toggleable__label-arrow:before {content: \"▸\";float: left;margin-right: 0.25em;color: #696969;}#sk-container-id-1 label.sk-toggleable__label-arrow:hover:before {color: black;}#sk-container-id-1 div.sk-estimator:hover label.sk-toggleable__label-arrow:before {color: black;}#sk-container-id-1 div.sk-toggleable__content {max-height: 0;max-width: 0;overflow: hidden;text-align: left;background-color: #f0f8ff;}#sk-container-id-1 div.sk-toggleable__content pre {margin: 0.2em;color: black;border-radius: 0.25em;background-color: #f0f8ff;}#sk-container-id-1 input.sk-toggleable__control:checked~div.sk-toggleable__content {max-height: 200px;max-width: 100%;overflow: auto;}#sk-container-id-1 input.sk-toggleable__control:checked~label.sk-toggleable__label-arrow:before {content: \"▾\";}#sk-container-id-1 div.sk-estimator input.sk-toggleable__control:checked~label.sk-toggleable__label {background-color: #d4ebff;}#sk-container-id-1 div.sk-label input.sk-toggleable__control:checked~label.sk-toggleable__label {background-color: #d4ebff;}#sk-container-id-1 input.sk-hidden--visually {border: 0;clip: rect(1px 1px 1px 1px);clip: rect(1px, 1px, 1px, 1px);height: 1px;margin: -1px;overflow: hidden;padding: 0;position: absolute;width: 1px;}#sk-container-id-1 div.sk-estimator {font-family: monospace;background-color: #f0f8ff;border: 1px dotted black;border-radius: 0.25em;box-sizing: border-box;margin-bottom: 0.5em;}#sk-container-id-1 div.sk-estimator:hover {background-color: #d4ebff;}#sk-container-id-1 div.sk-parallel-item::after {content: \"\";width: 100%;border-bottom: 1px solid gray;flex-grow: 1;}#sk-container-id-1 div.sk-label:hover label.sk-toggleable__label {background-color: #d4ebff;}#sk-container-id-1 div.sk-serial::before {content: \"\";position: absolute;border-left: 1px solid gray;box-sizing: border-box;top: 0;bottom: 0;left: 50%;z-index: 0;}#sk-container-id-1 div.sk-serial {display: flex;flex-direction: column;align-items: center;background-color: white;padding-right: 0.2em;padding-left: 0.2em;position: relative;}#sk-container-id-1 div.sk-item {position: relative;z-index: 1;}#sk-container-id-1 div.sk-parallel {display: flex;align-items: stretch;justify-content: center;background-color: white;position: relative;}#sk-container-id-1 div.sk-item::before, #sk-container-id-1 div.sk-parallel-item::before {content: \"\";position: absolute;border-left: 1px solid gray;box-sizing: border-box;top: 0;bottom: 0;left: 50%;z-index: -1;}#sk-container-id-1 div.sk-parallel-item {display: flex;flex-direction: column;z-index: 1;position: relative;background-color: white;}#sk-container-id-1 div.sk-parallel-item:first-child::after {align-self: flex-end;width: 50%;}#sk-container-id-1 div.sk-parallel-item:last-child::after {align-self: flex-start;width: 50%;}#sk-container-id-1 div.sk-parallel-item:only-child::after {width: 0;}#sk-container-id-1 div.sk-dashed-wrapped {border: 1px dashed gray;margin: 0 0.4em 0.5em 0.4em;box-sizing: border-box;padding-bottom: 0.4em;background-color: white;}#sk-container-id-1 div.sk-label label {font-family: monospace;font-weight: bold;display: inline-block;line-height: 1.2em;}#sk-container-id-1 div.sk-label-container {text-align: center;}#sk-container-id-1 div.sk-container {/* jupyter's `normalize.less` sets `[hidden] { display: none; }` but bootstrap.min.css set `[hidden] { display: none !important; }` so we also need the `!important` here to be able to override the default hidden behavior on the sphinx rendered scikit-learn.org. See: https://github.com/scikit-learn/scikit-learn/issues/21755 */display: inline-block !important;position: relative;}#sk-container-id-1 div.sk-text-repr-fallback {display: none;}</style><div id=\"sk-container-id-1\" class=\"sk-top-container\"><div class=\"sk-text-repr-fallback\"><pre>NearestNeighbors(algorithm=&#x27;brute&#x27;, metric=&#x27;cosine&#x27;, n_jobs=-1, n_neighbors=20)</pre><b>In a Jupyter environment, please rerun this cell to show the HTML representation or trust the notebook. <br />On GitHub, the HTML representation is unable to render, please try loading this page with nbviewer.org.</b></div><div class=\"sk-container\" hidden><div class=\"sk-item\"><div class=\"sk-estimator sk-toggleable\"><input class=\"sk-toggleable__control sk-hidden--visually\" id=\"sk-estimator-id-1\" type=\"checkbox\" checked><label for=\"sk-estimator-id-1\" class=\"sk-toggleable__label sk-toggleable__label-arrow\">NearestNeighbors</label><div class=\"sk-toggleable__content\"><pre>NearestNeighbors(algorithm=&#x27;brute&#x27;, metric=&#x27;cosine&#x27;, n_jobs=-1, n_neighbors=20)</pre></div></div></div></div></div>"
      ],
      "text/plain": [
       "NearestNeighbors(algorithm='brute', metric='cosine', n_jobs=-1, n_neighbors=20)"
      ]
     },
     "execution_count": 25,
     "metadata": {},
     "output_type": "execute_result"
    }
   ],
   "source": [
    "model_knn1 = NearestNeighbors(metric = \"cosine\", algorithm = \"brute\", n_neighbors = 20, n_jobs=-1)\n",
    "model_knn1.fit(user_features_matrix)"
   ]
  },
  {
   "cell_type": "code",
   "execution_count": 26,
   "id": "f1dbbb3b-8bb9-4193-99af-e0c313666d94",
   "metadata": {
    "tags": []
   },
   "outputs": [
    {
     "data": {
      "text/plain": [
       "(38132, 914)"
      ]
     },
     "execution_count": 26,
     "metadata": {},
     "output_type": "execute_result"
    }
   ],
   "source": [
    "user_features_df.shape"
   ]
  },
  {
   "cell_type": "code",
   "execution_count": 27,
   "id": "5ed7fd67-adc3-44c1-8589-1b5618f57397",
   "metadata": {
    "tags": []
   },
   "outputs": [
    {
     "data": {
      "text/html": [
       "<div>\n",
       "<style scoped>\n",
       "    .dataframe tbody tr th:only-of-type {\n",
       "        vertical-align: middle;\n",
       "    }\n",
       "\n",
       "    .dataframe tbody tr th {\n",
       "        vertical-align: top;\n",
       "    }\n",
       "\n",
       "    .dataframe thead th {\n",
       "        text-align: right;\n",
       "    }\n",
       "</style>\n",
       "<table border=\"1\" class=\"dataframe\">\n",
       "  <thead>\n",
       "    <tr style=\"text-align: right;\">\n",
       "      <th>Book-Title</th>\n",
       "      <th>1984</th>\n",
       "      <th>1st to Die: A Novel</th>\n",
       "      <th>24 Hours</th>\n",
       "      <th>2nd Chance</th>\n",
       "      <th>4 Blondes</th>\n",
       "      <th>84 Charing Cross Road</th>\n",
       "      <th>A Beautiful Mind: The Life of Mathematical Genius and Nobel Laureate John Nash</th>\n",
       "      <th>A Bend in the Road</th>\n",
       "      <th>A Case of Need</th>\n",
       "      <th>A Child Called \\It\\\": One Child's Courage to Survive\"</th>\n",
       "      <th>...</th>\n",
       "      <th>Without Remorse</th>\n",
       "      <th>Wizard and Glass (The Dark Tower, Book 4)</th>\n",
       "      <th>Women Who Run with the Wolves</th>\n",
       "      <th>Word Freak: Heartbreak, Triumph, Genius, and Obsession in the World of Competitive Scrabble Players</th>\n",
       "      <th>Wuthering Heights</th>\n",
       "      <th>Year of Wonders</th>\n",
       "      <th>You Belong To Me</th>\n",
       "      <th>Zen and the Art of Motorcycle Maintenance: An Inquiry into Values</th>\n",
       "      <th>Zoya</th>\n",
       "      <th>\\O\\\" Is for Outlaw\"</th>\n",
       "    </tr>\n",
       "    <tr>\n",
       "      <th>User-ID</th>\n",
       "      <th></th>\n",
       "      <th></th>\n",
       "      <th></th>\n",
       "      <th></th>\n",
       "      <th></th>\n",
       "      <th></th>\n",
       "      <th></th>\n",
       "      <th></th>\n",
       "      <th></th>\n",
       "      <th></th>\n",
       "      <th></th>\n",
       "      <th></th>\n",
       "      <th></th>\n",
       "      <th></th>\n",
       "      <th></th>\n",
       "      <th></th>\n",
       "      <th></th>\n",
       "      <th></th>\n",
       "      <th></th>\n",
       "      <th></th>\n",
       "      <th></th>\n",
       "    </tr>\n",
       "  </thead>\n",
       "  <tbody>\n",
       "    <tr>\n",
       "      <th>8</th>\n",
       "      <td>0.0</td>\n",
       "      <td>0.0</td>\n",
       "      <td>0.0</td>\n",
       "      <td>0.0</td>\n",
       "      <td>0.0</td>\n",
       "      <td>0.0</td>\n",
       "      <td>0.0</td>\n",
       "      <td>0.0</td>\n",
       "      <td>0.0</td>\n",
       "      <td>0.0</td>\n",
       "      <td>...</td>\n",
       "      <td>0.0</td>\n",
       "      <td>0.0</td>\n",
       "      <td>0.0</td>\n",
       "      <td>0.0</td>\n",
       "      <td>0.0</td>\n",
       "      <td>0.0</td>\n",
       "      <td>0.0</td>\n",
       "      <td>0.0</td>\n",
       "      <td>0.0</td>\n",
       "      <td>0.0</td>\n",
       "    </tr>\n",
       "    <tr>\n",
       "      <th>9</th>\n",
       "      <td>0.0</td>\n",
       "      <td>0.0</td>\n",
       "      <td>0.0</td>\n",
       "      <td>0.0</td>\n",
       "      <td>0.0</td>\n",
       "      <td>0.0</td>\n",
       "      <td>0.0</td>\n",
       "      <td>0.0</td>\n",
       "      <td>0.0</td>\n",
       "      <td>0.0</td>\n",
       "      <td>...</td>\n",
       "      <td>0.0</td>\n",
       "      <td>0.0</td>\n",
       "      <td>0.0</td>\n",
       "      <td>0.0</td>\n",
       "      <td>0.0</td>\n",
       "      <td>0.0</td>\n",
       "      <td>0.0</td>\n",
       "      <td>0.0</td>\n",
       "      <td>0.0</td>\n",
       "      <td>0.0</td>\n",
       "    </tr>\n",
       "    <tr>\n",
       "      <th>14</th>\n",
       "      <td>0.0</td>\n",
       "      <td>0.0</td>\n",
       "      <td>0.0</td>\n",
       "      <td>0.0</td>\n",
       "      <td>0.0</td>\n",
       "      <td>0.0</td>\n",
       "      <td>0.0</td>\n",
       "      <td>0.0</td>\n",
       "      <td>0.0</td>\n",
       "      <td>0.0</td>\n",
       "      <td>...</td>\n",
       "      <td>0.0</td>\n",
       "      <td>0.0</td>\n",
       "      <td>0.0</td>\n",
       "      <td>0.0</td>\n",
       "      <td>0.0</td>\n",
       "      <td>0.0</td>\n",
       "      <td>0.0</td>\n",
       "      <td>0.0</td>\n",
       "      <td>0.0</td>\n",
       "      <td>0.0</td>\n",
       "    </tr>\n",
       "    <tr>\n",
       "      <th>16</th>\n",
       "      <td>0.0</td>\n",
       "      <td>0.0</td>\n",
       "      <td>0.0</td>\n",
       "      <td>0.0</td>\n",
       "      <td>0.0</td>\n",
       "      <td>0.0</td>\n",
       "      <td>0.0</td>\n",
       "      <td>0.0</td>\n",
       "      <td>0.0</td>\n",
       "      <td>0.0</td>\n",
       "      <td>...</td>\n",
       "      <td>0.0</td>\n",
       "      <td>0.0</td>\n",
       "      <td>0.0</td>\n",
       "      <td>0.0</td>\n",
       "      <td>0.0</td>\n",
       "      <td>0.0</td>\n",
       "      <td>0.0</td>\n",
       "      <td>0.0</td>\n",
       "      <td>0.0</td>\n",
       "      <td>0.0</td>\n",
       "    </tr>\n",
       "    <tr>\n",
       "      <th>17</th>\n",
       "      <td>0.0</td>\n",
       "      <td>0.0</td>\n",
       "      <td>0.0</td>\n",
       "      <td>0.0</td>\n",
       "      <td>0.0</td>\n",
       "      <td>0.0</td>\n",
       "      <td>0.0</td>\n",
       "      <td>0.0</td>\n",
       "      <td>0.0</td>\n",
       "      <td>0.0</td>\n",
       "      <td>...</td>\n",
       "      <td>0.0</td>\n",
       "      <td>0.0</td>\n",
       "      <td>0.0</td>\n",
       "      <td>0.0</td>\n",
       "      <td>0.0</td>\n",
       "      <td>0.0</td>\n",
       "      <td>0.0</td>\n",
       "      <td>0.0</td>\n",
       "      <td>0.0</td>\n",
       "      <td>0.0</td>\n",
       "    </tr>\n",
       "    <tr>\n",
       "      <th>26</th>\n",
       "      <td>0.0</td>\n",
       "      <td>0.0</td>\n",
       "      <td>0.0</td>\n",
       "      <td>0.0</td>\n",
       "      <td>0.0</td>\n",
       "      <td>0.0</td>\n",
       "      <td>0.0</td>\n",
       "      <td>0.0</td>\n",
       "      <td>0.0</td>\n",
       "      <td>0.0</td>\n",
       "      <td>...</td>\n",
       "      <td>0.0</td>\n",
       "      <td>0.0</td>\n",
       "      <td>0.0</td>\n",
       "      <td>0.0</td>\n",
       "      <td>0.0</td>\n",
       "      <td>0.0</td>\n",
       "      <td>0.0</td>\n",
       "      <td>0.0</td>\n",
       "      <td>0.0</td>\n",
       "      <td>0.0</td>\n",
       "    </tr>\n",
       "    <tr>\n",
       "      <th>32</th>\n",
       "      <td>0.0</td>\n",
       "      <td>0.0</td>\n",
       "      <td>0.0</td>\n",
       "      <td>0.0</td>\n",
       "      <td>0.0</td>\n",
       "      <td>0.0</td>\n",
       "      <td>0.0</td>\n",
       "      <td>0.0</td>\n",
       "      <td>0.0</td>\n",
       "      <td>0.0</td>\n",
       "      <td>...</td>\n",
       "      <td>0.0</td>\n",
       "      <td>0.0</td>\n",
       "      <td>0.0</td>\n",
       "      <td>0.0</td>\n",
       "      <td>0.0</td>\n",
       "      <td>0.0</td>\n",
       "      <td>0.0</td>\n",
       "      <td>0.0</td>\n",
       "      <td>0.0</td>\n",
       "      <td>0.0</td>\n",
       "    </tr>\n",
       "    <tr>\n",
       "      <th>39</th>\n",
       "      <td>0.0</td>\n",
       "      <td>0.0</td>\n",
       "      <td>0.0</td>\n",
       "      <td>0.0</td>\n",
       "      <td>0.0</td>\n",
       "      <td>0.0</td>\n",
       "      <td>0.0</td>\n",
       "      <td>0.0</td>\n",
       "      <td>0.0</td>\n",
       "      <td>0.0</td>\n",
       "      <td>...</td>\n",
       "      <td>0.0</td>\n",
       "      <td>0.0</td>\n",
       "      <td>0.0</td>\n",
       "      <td>0.0</td>\n",
       "      <td>0.0</td>\n",
       "      <td>0.0</td>\n",
       "      <td>0.0</td>\n",
       "      <td>0.0</td>\n",
       "      <td>0.0</td>\n",
       "      <td>0.0</td>\n",
       "    </tr>\n",
       "    <tr>\n",
       "      <th>42</th>\n",
       "      <td>0.0</td>\n",
       "      <td>0.0</td>\n",
       "      <td>0.0</td>\n",
       "      <td>0.0</td>\n",
       "      <td>0.0</td>\n",
       "      <td>0.0</td>\n",
       "      <td>0.0</td>\n",
       "      <td>0.0</td>\n",
       "      <td>0.0</td>\n",
       "      <td>0.0</td>\n",
       "      <td>...</td>\n",
       "      <td>0.0</td>\n",
       "      <td>0.0</td>\n",
       "      <td>0.0</td>\n",
       "      <td>0.0</td>\n",
       "      <td>0.0</td>\n",
       "      <td>0.0</td>\n",
       "      <td>0.0</td>\n",
       "      <td>0.0</td>\n",
       "      <td>0.0</td>\n",
       "      <td>0.0</td>\n",
       "    </tr>\n",
       "    <tr>\n",
       "      <th>44</th>\n",
       "      <td>0.0</td>\n",
       "      <td>0.0</td>\n",
       "      <td>0.0</td>\n",
       "      <td>0.0</td>\n",
       "      <td>0.0</td>\n",
       "      <td>0.0</td>\n",
       "      <td>0.0</td>\n",
       "      <td>0.0</td>\n",
       "      <td>0.0</td>\n",
       "      <td>0.0</td>\n",
       "      <td>...</td>\n",
       "      <td>0.0</td>\n",
       "      <td>0.0</td>\n",
       "      <td>0.0</td>\n",
       "      <td>0.0</td>\n",
       "      <td>0.0</td>\n",
       "      <td>0.0</td>\n",
       "      <td>0.0</td>\n",
       "      <td>0.0</td>\n",
       "      <td>0.0</td>\n",
       "      <td>0.0</td>\n",
       "    </tr>\n",
       "  </tbody>\n",
       "</table>\n",
       "<p>10 rows × 914 columns</p>\n",
       "</div>"
      ],
      "text/plain": [
       "Book-Title  1984  1st to Die: A Novel  24 Hours  2nd Chance  4 Blondes  \\\n",
       "User-ID                                                                  \n",
       "8            0.0                  0.0       0.0         0.0        0.0   \n",
       "9            0.0                  0.0       0.0         0.0        0.0   \n",
       "14           0.0                  0.0       0.0         0.0        0.0   \n",
       "16           0.0                  0.0       0.0         0.0        0.0   \n",
       "17           0.0                  0.0       0.0         0.0        0.0   \n",
       "26           0.0                  0.0       0.0         0.0        0.0   \n",
       "32           0.0                  0.0       0.0         0.0        0.0   \n",
       "39           0.0                  0.0       0.0         0.0        0.0   \n",
       "42           0.0                  0.0       0.0         0.0        0.0   \n",
       "44           0.0                  0.0       0.0         0.0        0.0   \n",
       "\n",
       "Book-Title  84 Charing Cross Road  \\\n",
       "User-ID                             \n",
       "8                             0.0   \n",
       "9                             0.0   \n",
       "14                            0.0   \n",
       "16                            0.0   \n",
       "17                            0.0   \n",
       "26                            0.0   \n",
       "32                            0.0   \n",
       "39                            0.0   \n",
       "42                            0.0   \n",
       "44                            0.0   \n",
       "\n",
       "Book-Title  A Beautiful Mind: The Life of Mathematical Genius and Nobel Laureate John Nash  \\\n",
       "User-ID                                                                                      \n",
       "8                                                         0.0                                \n",
       "9                                                         0.0                                \n",
       "14                                                        0.0                                \n",
       "16                                                        0.0                                \n",
       "17                                                        0.0                                \n",
       "26                                                        0.0                                \n",
       "32                                                        0.0                                \n",
       "39                                                        0.0                                \n",
       "42                                                        0.0                                \n",
       "44                                                        0.0                                \n",
       "\n",
       "Book-Title  A Bend in the Road  A Case of Need  \\\n",
       "User-ID                                          \n",
       "8                          0.0             0.0   \n",
       "9                          0.0             0.0   \n",
       "14                         0.0             0.0   \n",
       "16                         0.0             0.0   \n",
       "17                         0.0             0.0   \n",
       "26                         0.0             0.0   \n",
       "32                         0.0             0.0   \n",
       "39                         0.0             0.0   \n",
       "42                         0.0             0.0   \n",
       "44                         0.0             0.0   \n",
       "\n",
       "Book-Title  A Child Called \\It\\\": One Child's Courage to Survive\"  ...  \\\n",
       "User-ID                                                            ...   \n",
       "8                                                         0.0      ...   \n",
       "9                                                         0.0      ...   \n",
       "14                                                        0.0      ...   \n",
       "16                                                        0.0      ...   \n",
       "17                                                        0.0      ...   \n",
       "26                                                        0.0      ...   \n",
       "32                                                        0.0      ...   \n",
       "39                                                        0.0      ...   \n",
       "42                                                        0.0      ...   \n",
       "44                                                        0.0      ...   \n",
       "\n",
       "Book-Title  Without Remorse  Wizard and Glass (The Dark Tower, Book 4)  \\\n",
       "User-ID                                                                  \n",
       "8                       0.0                                        0.0   \n",
       "9                       0.0                                        0.0   \n",
       "14                      0.0                                        0.0   \n",
       "16                      0.0                                        0.0   \n",
       "17                      0.0                                        0.0   \n",
       "26                      0.0                                        0.0   \n",
       "32                      0.0                                        0.0   \n",
       "39                      0.0                                        0.0   \n",
       "42                      0.0                                        0.0   \n",
       "44                      0.0                                        0.0   \n",
       "\n",
       "Book-Title  Women Who Run with the Wolves  \\\n",
       "User-ID                                     \n",
       "8                                     0.0   \n",
       "9                                     0.0   \n",
       "14                                    0.0   \n",
       "16                                    0.0   \n",
       "17                                    0.0   \n",
       "26                                    0.0   \n",
       "32                                    0.0   \n",
       "39                                    0.0   \n",
       "42                                    0.0   \n",
       "44                                    0.0   \n",
       "\n",
       "Book-Title  Word Freak: Heartbreak, Triumph, Genius, and Obsession in the World of Competitive Scrabble Players  \\\n",
       "User-ID                                                                                                           \n",
       "8                                                         0.0                                                     \n",
       "9                                                         0.0                                                     \n",
       "14                                                        0.0                                                     \n",
       "16                                                        0.0                                                     \n",
       "17                                                        0.0                                                     \n",
       "26                                                        0.0                                                     \n",
       "32                                                        0.0                                                     \n",
       "39                                                        0.0                                                     \n",
       "42                                                        0.0                                                     \n",
       "44                                                        0.0                                                     \n",
       "\n",
       "Book-Title  Wuthering Heights  Year of Wonders  You Belong To Me  \\\n",
       "User-ID                                                            \n",
       "8                         0.0              0.0               0.0   \n",
       "9                         0.0              0.0               0.0   \n",
       "14                        0.0              0.0               0.0   \n",
       "16                        0.0              0.0               0.0   \n",
       "17                        0.0              0.0               0.0   \n",
       "26                        0.0              0.0               0.0   \n",
       "32                        0.0              0.0               0.0   \n",
       "39                        0.0              0.0               0.0   \n",
       "42                        0.0              0.0               0.0   \n",
       "44                        0.0              0.0               0.0   \n",
       "\n",
       "Book-Title  Zen and the Art of Motorcycle Maintenance: An Inquiry into Values  \\\n",
       "User-ID                                                                         \n",
       "8                                                         0.0                   \n",
       "9                                                         0.0                   \n",
       "14                                                        0.0                   \n",
       "16                                                        0.0                   \n",
       "17                                                        0.0                   \n",
       "26                                                        0.0                   \n",
       "32                                                        0.0                   \n",
       "39                                                        0.0                   \n",
       "42                                                        0.0                   \n",
       "44                                                        0.0                   \n",
       "\n",
       "Book-Title  Zoya  \\O\\\" Is for Outlaw\"  \n",
       "User-ID                                \n",
       "8            0.0                  0.0  \n",
       "9            0.0                  0.0  \n",
       "14           0.0                  0.0  \n",
       "16           0.0                  0.0  \n",
       "17           0.0                  0.0  \n",
       "26           0.0                  0.0  \n",
       "32           0.0                  0.0  \n",
       "39           0.0                  0.0  \n",
       "42           0.0                  0.0  \n",
       "44           0.0                  0.0  \n",
       "\n",
       "[10 rows x 914 columns]"
      ]
     },
     "execution_count": 27,
     "metadata": {},
     "output_type": "execute_result"
    }
   ],
   "source": [
    "user_features_df.head(10)"
   ]
  },
  {
   "cell_type": "code",
   "execution_count": 28,
   "id": "0dd0bab3-23a3-4cb7-80a0-ea16eff6eebe",
   "metadata": {
    "tags": []
   },
   "outputs": [
    {
     "name": "stdout",
     "output_type": "stream",
     "text": [
      "20250\n"
     ]
    }
   ],
   "source": [
    "query_index=np.random.choice(user_features_df.shape[0])\n",
    "print(query_index)"
   ]
  },
  {
   "cell_type": "code",
   "execution_count": 29,
   "id": "7921f497-271e-4fa5-818f-76bfcbc3b4ba",
   "metadata": {
    "tags": []
   },
   "outputs": [],
   "source": [
    "distances, indices = model_knn1.kneighbors(user_features_df.iloc[query_index,:].values.reshape(1, -1), n_neighbors = 6)"
   ]
  },
  {
   "cell_type": "code",
   "execution_count": null,
   "id": "7c0f1a99-5661-48da-af01-03b499c8f461",
   "metadata": {
    "tags": []
   },
   "outputs": [],
   "source": [
    "user_ids = []\n",
    "for index in range(0, len(distances.flatten())):\n",
    "    user_ids.append(user_features_df.index[indices.flatten()[index]])\n",
    "    if index == 0: # the movie chosen\n",
    "        print(f\"Users similar with user having user_id:  {user_features_df.index[query_index]}\")\n",
    "        print(\"---------------------------------------------------------\")\n",
    "    else:\n",
    "        print(f\"{index}: {user_features_df.index[indices.flatten()[index]]} (dist: {distances.flatten()[index]})\")"
   ]
  },
  {
   "cell_type": "code",
   "execution_count": null,
   "id": "8da2d649-8285-42c7-a08b-8e6e93a00037",
   "metadata": {
    "tags": []
   },
   "outputs": [],
   "source": [
    "print(user_ids)"
   ]
  },
  {
   "cell_type": "code",
   "execution_count": null,
   "id": "7a9185ee-7f53-405d-81e0-c3f7f704cf0a",
   "metadata": {
    "tags": []
   },
   "outputs": [],
   "source": [
    "rating_popular_books_df.info()"
   ]
  },
  {
   "cell_type": "code",
   "execution_count": null,
   "id": "2b8e21b2-5bc9-4393-ad80-a1a12cf091af",
   "metadata": {
    "tags": []
   },
   "outputs": [],
   "source": [
    "# select books that were highly ranked by the most similar users.\n",
    "# look only for books highly rated by the similar users, not the current user\n",
    "candidate_user_ids = user_ids[1:]\n",
    "sel_ratings = rating_popular_books_df.loc[rating_popular_books_df['User-ID'].isin(candidate_user_ids)]\n",
    "\n",
    "# sort by best ratings and total rating count\n",
    "sel_ratings = sel_ratings.sort_values(by=[\"Book-Rating\", \"total_rating_count\"], ascending=False)\n",
    "\n",
    "# eliminate from the selection books that were ranked already by the current user\n",
    "books_rated_by_targeted_user = list(rating_popular_books_df.loc[rating_popular_books_df['User-ID'] == user_ids[0]][\"ISBN\"].values)\n",
    "sel_ratings = sel_ratings.loc[~sel_ratings['ISBN'].isin(books_rated_by_targeted_user)]\n",
    "\n",
    "# aggregate and count total ratings and total total_rating_count\n",
    "agg_sel_ratings = sel_ratings.groupby([\"Book-Title\", \"Book-Rating\"])[\"total_rating_count\"].max().reset_index()\n",
    "agg_sel_ratings.columns = [\"Book-Title\", \"Book-Rating\", \"total_ratings\"]\n",
    "agg_sel_ratings = agg_sel_ratings.sort_values(by=[\"Book-Rating\", \"total_ratings\"], ascending=False)\n",
    "\n",
    "# only select top n (default top 10 here)\n",
    "rec_list = agg_sel_ratings[\"Book-Title\"].head(10).values\n",
    "\n",
    "print(f\"\\nBooks recommended to user: {indices[0][0]}\\n---------------------------------\")\n",
    "for i, rec in enumerate(rec_list):\n",
    "    print(f\"{i+1}: {rec}\")"
   ]
  },
  {
   "cell_type": "code",
   "execution_count": null,
   "id": "d4de2516-d06c-45b8-8309-19a4b51767b4",
   "metadata": {
    "tags": []
   },
   "outputs": [],
   "source": [
    "def recommend_user_based(user_id=10):\n",
    "    n_users = 5\n",
    "    rec_top_n = 10\n",
    "    distances, indices = model_knn1.kneighbors(user_features_df.loc[user_features_df.index == user_id].values.reshape(1, -1), n_neighbors=n_users + 1)\n",
    "    user_ids = []\n",
    "    for index in range(0, len(distances.flatten())):\n",
    "        user_ids.append(user_features_df.index[indices.flatten()[index]])\n",
    "        if index == 0:  # the user chosen\n",
    "            print(f\"Users similar with user having user_id: {user_id}\")\n",
    "            print(\"---------------------------------------------------------\")\n",
    "        else:\n",
    "            print(f\"{index}: {user_features_df.index[indices.flatten()[index]]} (dist: {distances.flatten()[index]})\")\n",
    "\n",
    "    # select books that were highly ranked by the most similar users.\n",
    "\n",
    "    # look only for books highly rated by the similar users, not the current user\n",
    "    candidate_user_ids = user_ids[1:]\n",
    "    sel_ratings = rating_popular_books_df.loc[rating_popular_books_df['User-ID'].isin(candidate_user_ids)]\n",
    "    # sort by best ratings and total rating count\n",
    "    sel_ratings = sel_ratings.sort_values(by=[\"Book-Rating\", \"total_rating_count\"], ascending=False)\n",
    "    # eliminate from the selection books that were ranked already by the current user\n",
    "    books_rated_by_targeted_user = list(rating_popular_books_df.loc[rating_popular_books_df['User-ID'] == user_ids[0]][\"ISBN\"].values)\n",
    "    sel_ratings = sel_ratings.loc[~sel_ratings['ISBN'].isin(books_rated_by_targeted_user)]\n",
    "    # aggregate and count total ratings and total total_rating_count\n",
    "    agg_sel_ratings = sel_ratings.groupby([\"Book-Title\", \"Book-Rating\"])[\"total_rating_count\"].max().reset_index()\n",
    "    agg_sel_ratings.columns = [\"Book-Title\", \"Book-Rating\", \"total_ratings\"]\n",
    "    agg_sel_ratings = agg_sel_ratings.sort_values(by=[\"Book-Rating\", \"total_ratings\"], ascending=False)\n",
    "    # only select top n (default top 10 here)\n",
    "    rec_list = agg_sel_ratings[\"Book-Title\"].head(10).values\n",
    "    print(f\"\\nBooks recommended to user_id: {user_ids[0]}\\n---------------------------------\")\n",
    "    for i, rec in enumerate(rec_list):\n",
    "        print(f\"{i + 1}: {rec}\")"
   ]
  },
  {
   "cell_type": "code",
   "execution_count": null,
   "id": "9264aa46-737d-473f-8bbb-45feed479fed",
   "metadata": {
    "tags": []
   },
   "outputs": [],
   "source": [
    "model_knn2 = NearestNeighbors(metric = \"cosine\", algorithm = \"brute\", n_neighbors = 20, n_jobs=-1)\n",
    "model_knn2.fit(book_features_matrix)"
   ]
  },
  {
   "cell_type": "code",
   "execution_count": null,
   "id": "e0d2fdbb-cb6d-4743-8416-3d2eced6f2cc",
   "metadata": {
    "tags": []
   },
   "outputs": [],
   "source": [
    "query_index1 = np.random.choice(book_features_df.shape[0])\n",
    "print(query_index1)"
   ]
  },
  {
   "cell_type": "code",
   "execution_count": null,
   "id": "6056ea8f-3db3-48fb-9795-347bf7de9c66",
   "metadata": {
    "tags": []
   },
   "outputs": [],
   "source": [
    "distances, indices = model_knn2.kneighbors(book_features_df.iloc[query_index1,:].values.reshape(1, -1), n_neighbors = 6)"
   ]
  },
  {
   "cell_type": "code",
   "execution_count": null,
   "id": "aaa5fbc7-afb7-460b-9fc6-ef14ba66d35c",
   "metadata": {
    "tags": []
   },
   "outputs": [],
   "source": [
    "for index in range(0, len(distances.flatten())):\n",
    "    if index == 0: # the movie chosen\n",
    "        print(f\"Recommendation for {book_features_df.index[query_index1]} (dist: {distances.flatten()[index]})\")\n",
    "        print(\"---------------------------------------------------------\")\n",
    "    else:\n",
    "        print(f\"{index}: {book_features_df.index[indices.flatten()[index]]} (dist: {distances.flatten()[index]})\")"
   ]
  },
  {
   "cell_type": "code",
   "execution_count": null,
   "id": "b702cda9-6cda-4f5d-aa6d-e3f268023fec",
   "metadata": {
    "tags": []
   },
   "outputs": [],
   "source": [
    "def recommenditembased(query_index=10):\n",
    "    top_n=10\n",
    "    distances, indices = model_knn2.kneighbors(book_features_df.iloc[query_index,:].values.reshape(1, -1), n_neighbors = top_n+1)\n",
    "    for index in range(0, len(distances.flatten())):\n",
    "        if index == 0: # the movie chosen\n",
    "            print(f\"Recommendation for {book_features_df.index[query_index]} (dist: {distances.flatten()[index]})\")\n",
    "            print(\"---------------------------------------------------------\")\n",
    "        else:\n",
    "            print(f\"{index}: {book_features_df.index[indices.flatten()[index]]} (dist: {distances.flatten()[index]})\")"
   ]
  },
  {
   "cell_type": "code",
   "execution_count": null,
   "id": "4e291556-6202-4f10-bf23-24211137ea41",
   "metadata": {
    "tags": []
   },
   "outputs": [],
   "source": [
    "def recommend_item_based(book_title, top_n=10):\n",
    "    # Check if the book_title exists in the dataset\n",
    "    if book_title not in book_features_df.index:\n",
    "        print(f\"The Book '{book_title}' was not found in the dataset.\")\n",
    "        return\n",
    "\n",
    "    # Find the query_index for the given movie_title\n",
    "    query_index = book_features_df.index.get_loc(book_title)\n",
    "\n",
    "    distances, indices = model_knn2.kneighbors(book_features_df.iloc[query_index, :].values.reshape(1, -1), n_neighbors=top_n + 1)\n",
    "\n",
    "    for index in range(0, len(distances.flatten())):\n",
    "        if index == 0:  # the movie chosen\n",
    "            print(f\"Recommendation for {book_features_df.index[query_index]} (dist: {distances.flatten()[index]})\")\n",
    "            print(\"---------------------------------------------------------\")\n",
    "        else:\n",
    "            print(f\"{index}: {book_features_df.index[indices.flatten()[index]]} (dist: {distances.flatten()[index]})\")\n",
    "\n",
    "book_name = input(\"Enter book name: \")\n",
    "recommend_item_based(book_name, 10)"
   ]
  },
  {
   "cell_type": "code",
   "execution_count": null,
   "id": "591137d7-fe4a-4fa1-ad3b-8d1fb4e236fb",
   "metadata": {
    "tags": []
   },
   "outputs": [],
   "source": [
    "k=int(input(\"Enter user id:\"))\n",
    "recommend_user_based(k)"
   ]
  },
  {
   "cell_type": "code",
   "execution_count": null,
   "id": "5eaf7087-60c3-4aff-a293-f354ce78b3da",
   "metadata": {},
   "outputs": [],
   "source": []
  }
 ],
 "metadata": {
  "kernelspec": {
   "display_name": "Python 3 (ipykernel)",
   "language": "python",
   "name": "python3"
  },
  "language_info": {
   "codemirror_mode": {
    "name": "ipython",
    "version": 3
   },
   "file_extension": ".py",
   "mimetype": "text/x-python",
   "name": "python",
   "nbconvert_exporter": "python",
   "pygments_lexer": "ipython3",
   "version": "3.10.12"
  }
 },
 "nbformat": 4,
 "nbformat_minor": 5
}
