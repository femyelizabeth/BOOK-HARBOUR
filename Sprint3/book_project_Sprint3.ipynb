{
 "cells": [
  {
   "cell_type": "markdown",
   "id": "a5ab5878-5cce-421f-9bb6-f307bad08e46",
   "metadata": {},
   "source": [
    "BOOK RECOMMENDATION SYSTEM"
   ]
  },
  {
   "cell_type": "markdown",
   "metadata": {},
   "source": [
    "SPRINT-3"
   ]
  },
  {
   "cell_type": "code",
   "execution_count": null,
   "id": "cea9457f-eafa-43db-a80a-cb306c438dfd",
   "metadata": {
    "tags": []
   },
   "outputs": [],
   "source": [
    "import pickle\n",
    "# Save the models and dataframes to a pickle file\n",
    "with open('book_recommendation.pkl', 'wb') as file:\n",
    "    pickle.dump({\n",
    "        'model_knn1': model_knn1,\n",
    "        'user_features_df': user_features_df,\n",
    "        'rating_popular_books_df': rating_popular_books_df,\n",
    "        'model_knn2':model_knn2,\n",
    "        'book_features_df':book_features_df\n",
    "    }, file)"
   ]
  },
  {
   "cell_type": "code",
   "execution_count": null,
   "id": "49b25f11-63e3-43c9-99ec-37266fba43fd",
   "metadata": {
    "tags": []
   },
   "outputs": [],
   "source": [
    "with open('book_recommendation.pkl', 'rb') as file:\n",
    "    data = pickle.load(file)\n",
    "    model_knn1 = data['model_knn1']  # Load model_knn1\n",
    "    user_features_df = data['user_features_df']  # Load user_features_df\n",
    "    rating_popular_books_df = data['rating_popular_books_df']\n",
    "    model_knn2 = data['model_knn2']\n",
    "    book_features_df = data['book_features_df']"
   ]
  },
  {
   "cell_type": "code",
   "execution_count": null,
   "id": "1776c338-19f5-405a-ac49-1083c9cac3b2",
   "metadata": {
    "tags": []
   },
   "outputs": [],
   "source": [
    "import scipy as sc\n",
    "print(sc.__version__)"
   ]
  },
  {
   "cell_type": "code",
   "execution_count": null,
   "id": "5eaf7087-60c3-4aff-a293-f354ce78b3da",
   "metadata": {},
   "outputs": [],
   "source": []
  }
 ],
 "metadata": {
  "kernelspec": {
   "display_name": "Python 3 (ipykernel)",
   "language": "python",
   "name": "python3"
  },
  "language_info": {
   "codemirror_mode": {
    "name": "ipython",
    "version": 3
   },
   "file_extension": ".py",
   "mimetype": "text/x-python",
   "name": "python",
   "nbconvert_exporter": "python",
   "pygments_lexer": "ipython3",
   "version": "3.10.12"
  }
 },
 "nbformat": 4,
 "nbformat_minor": 5
}
